{
 "cells": [
  {
   "cell_type": "code",
   "execution_count": 2,
   "metadata": {},
   "outputs": [],
   "source": [
    "import json\n",
    "from pathlib import Path"
   ]
  },
  {
   "cell_type": "code",
   "execution_count": 3,
   "metadata": {},
   "outputs": [],
   "source": [
    "# 需要用户输入的内容\n",
    "path = './明日方舟'\n",
    "header = '显示名'\n",
    "meta = {\n",
    "    \"name\":\"明日方舟对话框\",\n",
    "    \"cover\":\"@/cover.png\",\n",
    "    \"describe\":\"明日方舟的极简风格，没有多加东西，请以实际情况调整。\",\n",
    "    \"author\":\"GULILI\",\n",
    "    \"licence\":\"不可以用于商业用途，无需注明作者\"\n",
    "}"
   ]
  },
  {
   "cell_type": "markdown",
   "metadata": {},
   "source": [
    "# 创建智能模板"
   ]
  },
  {
   "cell_type": "code",
   "execution_count": 5,
   "metadata": {},
   "outputs": [],
   "source": [
    "# 载入rgpj\n",
    "workpath = Path(path)\n",
    "find_result = list(workpath.glob('*.rgpj'))\n",
    "if find_result:\n",
    "    rplgen_project = json.load(open(find_result[0].absolute()))\n",
    "# 创建一个空白的模板\n",
    "rplgen_intel_template = {}\n",
    "# 写入meta信息\n",
    "# 封面要求：540p，jpg\n",
    "rplgen_intel_template['meta'] = meta\n",
    "# 项目配置，移除原有的项目名称和封面\n",
    "config = rplgen_project['config'].copy()\n",
    "config.pop('Name')\n",
    "config.pop('Cover')\n",
    "rplgen_intel_template['config'] = config\n",
    "\n",
    "# 排序媒体\n",
    "media_order = {\n",
    "    'Pos'       : ['Pos','FreePos','PosGrid','BezierCurve'],\n",
    "    'Text'      : ['Text', 'StrokeText', 'RichText', 'HPLabel'],\n",
    "    'Animation' : ['Animation'],\n",
    "    'Bubble'    : ['Bubble','Balloon','DynamicBubble','ChatWindow'],\n",
    "    'Background': ['Background'],\n",
    "    'Audio'     : ['Audio','BGM'],\n",
    "}\n",
    "static_media = {}\n",
    "for type in media_order:\n",
    "    this_type:list = media_order[type]\n",
    "    for name in rplgen_project['mediadef']:\n",
    "        item = rplgen_project['mediadef'][name]\n",
    "        if item['type'] in this_type:\n",
    "            static_media[name] = item\n",
    "# 添加媒体\n",
    "rplgen_intel_template['media'] = {\n",
    "    'static':static_media,\n",
    "    'dynamic':{}\n",
    "}\n",
    "# 检视角色\n",
    "# 获取自定义列的信息\n",
    "table_col = ['Name','Subtype','Animation','Bubble','Voice','SpeechRate','PitchRate']\n",
    "custom = []\n",
    "static_list = []\n",
    "dynamic_list = []\n",
    "for keyword in rplgen_project['chartab']:\n",
    "    this_char = rplgen_project['chartab'][keyword]\n",
    "    # 检视自定义\n",
    "    for col in this_char:\n",
    "        if col not in table_col and col not in custom:\n",
    "            custom.append(col)\n",
    "    # 检视名字\n",
    "    name:str = this_char['Name']\n",
    "    if name.isdigit():\n",
    "        dynamic_list.append(keyword)\n",
    "    else:\n",
    "        static_list.append(keyword)\n",
    "dynamic_charactor = {}\n",
    "static_charactor = {}\n",
    "# 静态角色采用的列\n",
    "static_use_col = ['Name','Subtype','Animation','Bubble'] + custom\n",
    "# 动态角色采用的列，不含header\n",
    "dynamic_use_col = ['Animation','Bubble'] + custom\n",
    "dynamic_use_col.remove(header)\n",
    "# 获取静态角色\n",
    "for keyword in static_list:\n",
    "    this_char = rplgen_project['chartab'][keyword]\n",
    "    tplt_char = {}\n",
    "    name = this_char['Name']\n",
    "    for col in static_use_col:\n",
    "        tplt_char[col] = this_char[col]\n",
    "    static_charactor[name] = tplt_char\n",
    "# 获取动态角色\n",
    "for keyword in dynamic_list:\n",
    "    this_char = rplgen_project['chartab'][keyword]\n",
    "    tplt_char = {}\n",
    "    name = this_char['Name']\n",
    "    for col in dynamic_use_col:\n",
    "        tplt_char[col] = this_char[col]\n",
    "    dynamic_charactor[name] = tplt_char\n",
    "# 添加角色\n",
    "rplgen_intel_template['charactor'] = {\n",
    "    \"custom\":custom,\n",
    "    \"header\":header,\n",
    "    'static':static_charactor,\n",
    "    'dynamic':dynamic_charactor\n",
    "}\n",
    "# 剧本\n",
    "rplgen_intel_template['preset'] = rplgen_project['logfile']['preset']\n",
    "if 'example' in rplgen_project['logfile']:\n",
    "    rplgen_intel_template['example'] = rplgen_project['logfile']['example']\n",
    "else:\n",
    "    rplgen_intel_template['example'] = None\n",
    "# 输出\n",
    "with open(workpath.absolute()/'main.rgint','w',encoding='utf-8') as rgint:\n",
    "    json.dump(rplgen_intel_template,rgint,ensure_ascii=False,indent=4)"
   ]
  },
  {
   "cell_type": "markdown",
   "metadata": {},
   "source": [
    "# 使用steamwork API"
   ]
  },
  {
   "cell_type": "code",
   "execution_count": 1,
   "metadata": {},
   "outputs": [],
   "source": [
    "import sys,os\n",
    "if sys.version_info >= (3, 8):\n",
    "  os.add_dll_directory(os.getcwd()) # Required since Python 3.8\n",
    "from steamworks import STEAMWORKS # Import main STEAMWORKS class"
   ]
  },
  {
   "cell_type": "code",
   "execution_count": 10,
   "metadata": {},
   "outputs": [
    {
     "name": "stdout",
     "output_type": "stream",
     "text": [
      "d:\\GitHub\\RplGen-Gallery.github.io\\SteamworksPy64.dll\n"
     ]
    },
    {
     "ename": "OSError",
     "evalue": "[WinError 127] 找不到指定的程序。",
     "output_type": "error",
     "traceback": [
      "\u001b[1;31m---------------------------------------------------------------------------\u001b[0m",
      "\u001b[1;31mOSError\u001b[0m                                   Traceback (most recent call last)",
      "Cell \u001b[1;32mIn[10], line 2\u001b[0m\n\u001b[0;32m      1\u001b[0m \u001b[38;5;66;03m# 初始化steamwork类\u001b[39;00m\n\u001b[1;32m----> 2\u001b[0m steamworks \u001b[38;5;241m=\u001b[39m \u001b[43mSTEAMWORKS\u001b[49m\u001b[43m(\u001b[49m\u001b[43m)\u001b[49m\n\u001b[0;32m      3\u001b[0m steamworks\u001b[38;5;241m.\u001b[39minitialize()\n",
      "File \u001b[1;32md:\\GitHub\\RplGen-Gallery.github.io\\steamworks\\__init__.py:52\u001b[0m, in \u001b[0;36mSTEAMWORKS.__init__\u001b[1;34m(self, supported_platforms)\u001b[0m\n\u001b[0;32m     48\u001b[0m \u001b[38;5;28mself\u001b[39m\u001b[38;5;241m.\u001b[39m_cdll \t\t\u001b[38;5;241m=\u001b[39m \u001b[38;5;28;01mNone\u001b[39;00m\n\u001b[0;32m     50\u001b[0m \u001b[38;5;28mself\u001b[39m\u001b[38;5;241m.\u001b[39mapp_id \t\u001b[38;5;241m=\u001b[39m \u001b[38;5;241m0\u001b[39m\n\u001b[1;32m---> 52\u001b[0m \u001b[38;5;28;43mself\u001b[39;49m\u001b[38;5;241;43m.\u001b[39;49m\u001b[43m_initialize\u001b[49m\u001b[43m(\u001b[49m\u001b[43m)\u001b[49m\n",
      "File \u001b[1;32md:\\GitHub\\RplGen-Gallery.github.io\\steamworks\\__init__.py:101\u001b[0m, in \u001b[0;36mSTEAMWORKS._initialize\u001b[1;34m(self)\u001b[0m\n\u001b[0;32m     99\u001b[0m     \u001b[38;5;28mself\u001b[39m\u001b[38;5;241m.\u001b[39mapp_id\t\u001b[38;5;241m=\u001b[39m \u001b[38;5;28mint\u001b[39m(f\u001b[38;5;241m.\u001b[39mread())\n\u001b[0;32m    100\u001b[0m \u001b[38;5;28mprint\u001b[39m(library_path)\n\u001b[1;32m--> 101\u001b[0m \u001b[38;5;28mself\u001b[39m\u001b[38;5;241m.\u001b[39m_cdll \t\t\u001b[38;5;241m=\u001b[39m \u001b[43mCDLL\u001b[49m\u001b[43m(\u001b[49m\u001b[43mlibrary_path\u001b[49m\u001b[43m)\u001b[49m \u001b[38;5;66;03m# Throw native exception in case of error\u001b[39;00m\n\u001b[0;32m    102\u001b[0m \u001b[38;5;28mself\u001b[39m\u001b[38;5;241m.\u001b[39m_loaded \t\u001b[38;5;241m=\u001b[39m \u001b[38;5;28;01mTrue\u001b[39;00m\n\u001b[0;32m    104\u001b[0m \u001b[38;5;28mself\u001b[39m\u001b[38;5;241m.\u001b[39m_load_steamworks_api()\n",
      "File \u001b[1;32md:\\Anaconda3\\lib\\ctypes\\__init__.py:374\u001b[0m, in \u001b[0;36mCDLL.__init__\u001b[1;34m(self, name, mode, handle, use_errno, use_last_error, winmode)\u001b[0m\n\u001b[0;32m    371\u001b[0m \u001b[38;5;28mself\u001b[39m\u001b[38;5;241m.\u001b[39m_FuncPtr \u001b[38;5;241m=\u001b[39m _FuncPtr\n\u001b[0;32m    373\u001b[0m \u001b[38;5;28;01mif\u001b[39;00m handle \u001b[38;5;129;01mis\u001b[39;00m \u001b[38;5;28;01mNone\u001b[39;00m:\n\u001b[1;32m--> 374\u001b[0m     \u001b[38;5;28mself\u001b[39m\u001b[38;5;241m.\u001b[39m_handle \u001b[38;5;241m=\u001b[39m \u001b[43m_dlopen\u001b[49m\u001b[43m(\u001b[49m\u001b[38;5;28;43mself\u001b[39;49m\u001b[38;5;241;43m.\u001b[39;49m\u001b[43m_name\u001b[49m\u001b[43m,\u001b[49m\u001b[43m \u001b[49m\u001b[43mmode\u001b[49m\u001b[43m)\u001b[49m\n\u001b[0;32m    375\u001b[0m \u001b[38;5;28;01melse\u001b[39;00m:\n\u001b[0;32m    376\u001b[0m     \u001b[38;5;28mself\u001b[39m\u001b[38;5;241m.\u001b[39m_handle \u001b[38;5;241m=\u001b[39m handle\n",
      "\u001b[1;31mOSError\u001b[0m: [WinError 127] 找不到指定的程序。"
     ]
    }
   ],
   "source": [
    "# 初始化steamwork类\n",
    "steamworks = STEAMWORKS()\n",
    "steamworks.initialize()"
   ]
  },
  {
   "cell_type": "code",
   "execution_count": 11,
   "metadata": {},
   "outputs": [],
   "source": [
    "from ctypes import CDLL"
   ]
  },
  {
   "cell_type": "code",
   "execution_count": 13,
   "metadata": {},
   "outputs": [
    {
     "ename": "FileNotFoundError",
     "evalue": "Could not find module 'd:\\GitHub\\RplGen-Gallery.github.io\\SteamworksPy64.dll' (or one of its dependencies). Try using the full path with constructor syntax.",
     "output_type": "error",
     "traceback": [
      "\u001b[1;31m---------------------------------------------------------------------------\u001b[0m",
      "\u001b[1;31mFileNotFoundError\u001b[0m                         Traceback (most recent call last)",
      "Cell \u001b[1;32mIn[13], line 1\u001b[0m\n\u001b[1;32m----> 1\u001b[0m \u001b[43mCDLL\u001b[49m\u001b[43m(\u001b[49m\u001b[38;5;124;43m'\u001b[39;49m\u001b[38;5;124;43m./SteamworksPy64.dll\u001b[39;49m\u001b[38;5;124;43m'\u001b[39;49m\u001b[43m)\u001b[49m\n",
      "File \u001b[1;32md:\\Anaconda3\\lib\\ctypes\\__init__.py:374\u001b[0m, in \u001b[0;36mCDLL.__init__\u001b[1;34m(self, name, mode, handle, use_errno, use_last_error, winmode)\u001b[0m\n\u001b[0;32m    371\u001b[0m \u001b[38;5;28mself\u001b[39m\u001b[38;5;241m.\u001b[39m_FuncPtr \u001b[38;5;241m=\u001b[39m _FuncPtr\n\u001b[0;32m    373\u001b[0m \u001b[38;5;28;01mif\u001b[39;00m handle \u001b[38;5;129;01mis\u001b[39;00m \u001b[38;5;28;01mNone\u001b[39;00m:\n\u001b[1;32m--> 374\u001b[0m     \u001b[38;5;28mself\u001b[39m\u001b[38;5;241m.\u001b[39m_handle \u001b[38;5;241m=\u001b[39m \u001b[43m_dlopen\u001b[49m\u001b[43m(\u001b[49m\u001b[38;5;28;43mself\u001b[39;49m\u001b[38;5;241;43m.\u001b[39;49m\u001b[43m_name\u001b[49m\u001b[43m,\u001b[49m\u001b[43m \u001b[49m\u001b[43mmode\u001b[49m\u001b[43m)\u001b[49m\n\u001b[0;32m    375\u001b[0m \u001b[38;5;28;01melse\u001b[39;00m:\n\u001b[0;32m    376\u001b[0m     \u001b[38;5;28mself\u001b[39m\u001b[38;5;241m.\u001b[39m_handle \u001b[38;5;241m=\u001b[39m handle\n",
      "\u001b[1;31mFileNotFoundError\u001b[0m: Could not find module 'd:\\GitHub\\RplGen-Gallery.github.io\\SteamworksPy64.dll' (or one of its dependencies). Try using the full path with constructor syntax."
     ]
    }
   ],
   "source": [
    "CDLL('./SteamworksPy64.dll')"
   ]
  },
  {
   "cell_type": "code",
   "execution_count": null,
   "metadata": {},
   "outputs": [
    {
     "name": "stdout",
     "output_type": "stream",
     "text": [
      "d:\\GitHub\\RplGen-Gallery.github.io\\SteamworksPy64.dll\n"
     ]
    },
    {
     "ename": "OSError",
     "evalue": "[WinError 127] 找不到指定的程序。",
     "output_type": "error",
     "traceback": [
      "\u001b[1;31m---------------------------------------------------------------------------\u001b[0m\n",
      "\u001b[1;31mOSError\u001b[0m                                   Traceback (most recent call last)\n",
      "Cell \u001b[1;32mIn[10], line 2\u001b[0m\n",
      "\u001b[0;32m      1\u001b[0m \u001b[38;5;66;03m# 初始化steamwork类\u001b[39;00m\n",
      "\u001b[1;32m----> 2\u001b[0m steamworks \u001b[38;5;241m=\u001b[39m \u001b[43mSTEAMWORKS\u001b[49m\u001b[43m(\u001b[49m\u001b[43m)\u001b[49m\n",
      "\u001b[0;32m      3\u001b[0m steamworks\u001b[38;5;241m.\u001b[39minitialize()\n",
      "\n",
      "File \u001b[1;32md:\\GitHub\\RplGen-Gallery.github.io\\steamworks\\__init__.py:52\u001b[0m, in \u001b[0;36mSTEAMWORKS.__init__\u001b[1;34m(self, supported_platforms)\u001b[0m\n",
      "\u001b[0;32m     48\u001b[0m \u001b[38;5;28mself\u001b[39m\u001b[38;5;241m.\u001b[39m_cdll \t\t\u001b[38;5;241m=\u001b[39m \u001b[38;5;28;01mNone\u001b[39;00m\n",
      "\u001b[0;32m     50\u001b[0m \u001b[38;5;28mself\u001b[39m\u001b[38;5;241m.\u001b[39mapp_id \t\u001b[38;5;241m=\u001b[39m \u001b[38;5;241m0\u001b[39m\n",
      "\u001b[1;32m---> 52\u001b[0m \u001b[38;5;28;43mself\u001b[39;49m\u001b[38;5;241;43m.\u001b[39;49m\u001b[43m_initialize\u001b[49m\u001b[43m(\u001b[49m\u001b[43m)\u001b[49m\n",
      "\n",
      "File \u001b[1;32md:\\GitHub\\RplGen-Gallery.github.io\\steamworks\\__init__.py:101\u001b[0m, in \u001b[0;36mSTEAMWORKS._initialize\u001b[1;34m(self)\u001b[0m\n",
      "\u001b[0;32m     99\u001b[0m     \u001b[38;5;28mself\u001b[39m\u001b[38;5;241m.\u001b[39mapp_id\t\u001b[38;5;241m=\u001b[39m \u001b[38;5;28mint\u001b[39m(f\u001b[38;5;241m.\u001b[39mread())\n",
      "\u001b[0;32m    100\u001b[0m \u001b[38;5;28mprint\u001b[39m(library_path)\n",
      "\u001b[1;32m--> 101\u001b[0m \u001b[38;5;28mself\u001b[39m\u001b[38;5;241m.\u001b[39m_cdll \t\t\u001b[38;5;241m=\u001b[39m \u001b[43mCDLL\u001b[49m\u001b[43m(\u001b[49m\u001b[43mlibrary_path\u001b[49m\u001b[43m)\u001b[49m \u001b[38;5;66;03m# Throw native exception in case of error\u001b[39;00m\n",
      "\u001b[0;32m    102\u001b[0m \u001b[38;5;28mself\u001b[39m\u001b[38;5;241m.\u001b[39m_loaded \t\u001b[38;5;241m=\u001b[39m \u001b[38;5;28;01mTrue\u001b[39;00m\n",
      "\u001b[0;32m    104\u001b[0m \u001b[38;5;28mself\u001b[39m\u001b[38;5;241m.\u001b[39m_load_steamworks_api()\n",
      "\n",
      "File \u001b[1;32md:\\Anaconda3\\lib\\ctypes\\__init__.py:374\u001b[0m, in \u001b[0;36mCDLL.__init__\u001b[1;34m(self, name, mode, handle, use_errno, use_last_error, winmode)\u001b[0m\n",
      "\u001b[0;32m    371\u001b[0m \u001b[38;5;28mself\u001b[39m\u001b[38;5;241m.\u001b[39m_FuncPtr \u001b[38;5;241m=\u001b[39m _FuncPtr\n",
      "\u001b[0;32m    373\u001b[0m \u001b[38;5;28;01mif\u001b[39;00m handle \u001b[38;5;129;01mis\u001b[39;00m \u001b[38;5;28;01mNone\u001b[39;00m:\n",
      "\u001b[1;32m--> 374\u001b[0m     \u001b[38;5;28mself\u001b[39m\u001b[38;5;241m.\u001b[39m_handle \u001b[38;5;241m=\u001b[39m \u001b[43m_dlopen\u001b[49m\u001b[43m(\u001b[49m\u001b[38;5;28;43mself\u001b[39;49m\u001b[38;5;241;43m.\u001b[39;49m\u001b[43m_name\u001b[49m\u001b[43m,\u001b[49m\u001b[43m \u001b[49m\u001b[43mmode\u001b[49m\u001b[43m)\u001b[49m\n",
      "\u001b[0;32m    375\u001b[0m \u001b[38;5;28;01melse\u001b[39;00m:\n",
      "\u001b[0;32m    376\u001b[0m     \u001b[38;5;28mself\u001b[39m\u001b[38;5;241m.\u001b[39m_handle \u001b[38;5;241m=\u001b[39m handle\n",
      "\n",
      "\u001b[1;31mOSError\u001b[0m: [WinError 127] 找不到指定的程序。"
     ]
    }
   ],
   "source": [
    "# 初始化steamwork类\n",
    "steamworks = STEAMWORKS()\n",
    "steamworks.initialize()"
   ]
  },
  {
   "cell_type": "markdown",
   "metadata": {},
   "source": [
    "# 上传到创意工坊"
   ]
  },
  {
   "cell_type": "code",
   "execution_count": 6,
   "metadata": {},
   "outputs": [],
   "source": [
    "import json"
   ]
  },
  {
   "cell_type": "code",
   "execution_count": 7,
   "metadata": {},
   "outputs": [],
   "source": [
    "path = './重返未来'\n",
    "version = 'RGS @ beta 2.0.6'"
   ]
  },
  {
   "cell_type": "code",
   "execution_count": 8,
   "metadata": {},
   "outputs": [],
   "source": [
    "vdf_tplt = open('./workshop_newitem.vdf','r').read()\n",
    "meta = json.load(open(path+'/main.rgint','r'))['meta']\n",
    "name = meta['name']\n",
    "\n",
    "folder = Path(path).absolute().__str__()\n",
    "cover = meta['cover'].replace('@',folder).replace('/','\\\\')\n",
    "\n",
    "description = '简介：{describe} 作者：{author} 授权：{licence}'.format(**meta)\n",
    "# 保存vdf\n",
    "with open(f'./steamcmd/{name}.vdf','w') as of:\n",
    "    of.write(\n",
    "        vdf_tplt\n",
    "        .replace('{path}',folder)\n",
    "        .replace('{cover}',cover)\n",
    "        .replace('{title}',meta['name'])\n",
    "        .replace('{description}',description)\n",
    "        .replace('{version}',version)\n",
    "    )"
   ]
  },
  {
   "cell_type": "code",
   "execution_count": null,
   "metadata": {},
   "outputs": [],
   "source": [
    "if sys.version_info >= (3, 8):\n",
    "  os.add_dll_directory(os.getcwd()) # Required since Python 3.8"
   ]
  },
  {
   "cell_type": "markdown",
   "metadata": {},
   "source": [
    "## steamcmd\n",
    "```bash\n",
    "cd ./steamcmd\n",
    "steamcmd.exe +login $myLoginName $myPassword +workshop_build_item ${tplt_name}.vdf +quit'\n",
    "```"
   ]
  }
 ],
 "metadata": {
  "kernelspec": {
   "display_name": "base",
   "language": "python",
   "name": "python3"
  },
  "language_info": {
   "codemirror_mode": {
    "name": "ipython",
    "version": 3
   },
   "file_extension": ".py",
   "mimetype": "text/x-python",
   "name": "python",
   "nbconvert_exporter": "python",
   "pygments_lexer": "ipython3",
   "version": "3.10.9"
  }
 },
 "nbformat": 4,
 "nbformat_minor": 2
}
